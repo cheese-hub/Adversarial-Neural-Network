{
  "cells": [
    {
      "attachments": {},
      "cell_type": "markdown",
      "metadata": {
        "id": "LeYHBiETKkq3"
      },
      "source": [
        "# Generative Adversial Attacks\n",
        "\n",
        "## Introduction\n",
        "\n",
        "Generative Adversarial Attacks, a subset of adversarial attacks, have emerged as a significant threat in the realm of machine learning and artificial intelligence. These attacks exploit the vulnerabilities inherent in generative models, which are powerful tools used for generating realistic data such as images, text, or even audio.\n",
        "\n",
        "\n",
        "***\n",
        "\n",
        "## Outline\n",
        "\n",
        "In this lab, we will explore the effects of a adversarial attack on an neural network trained on a dataset of handwritten digits. We will use a simple gradient descent algorithm to craft attack that can fool the neural networks into misclassifying digits. We will evaluate the effectiveness of the attack by measuring the models accuracy on a test set.\n",
        "\n",
        "By the end of this lab, you will have a better understanding of how adversarial attacks work and how to defend against them.\n"
      ]
    },
    {
      "attachments": {},
      "cell_type": "markdown",
      "metadata": {
        "id": "joQGk0hpMu8T"
      },
      "source": [
        "### Contents\n",
        "- [Part 0: Getting Started](#part0)\n",
        "- [Part 1: Load The Data and Model](#part1)\n",
        "- [Part 2: Attack Algorithm](#part2.0) <br/>\n",
        "  [2.1: Non-Targeted Attack](#part2.1) <br/>\n",
        "  [2.2: Targeted Attack](#part2.2) <br/>\n",
        "- [Part 3: Protection against Adversarial attack](#part3.0) <br/>\n",
        "  [3.1: Binary Thresholding](#part3.1) <br/>\n",
        "  [3.2: Adversarial Training](#part3.2) <br/>\n"
      ]
    },
    {
      "attachments": {},
      "cell_type": "markdown",
      "metadata": {
        "id": "nl5Rdq4WM4SE"
      },
      "source": [
        "<a id='part0'></a>\n",
        "# Part 0: Getting Started\n",
        "\n",
        "### Imports and Formatting\n",
        "**Sci-kit learn (sklearn)** is a commonly used python machine learning library that features various classification, regression and clustering algorithms and powerful data pre and post processing and evaluation methods.\n",
        "\n",
        "We use the datasets from sci-kit learn to import **MNIST** dataset. (Handwritten images of numbers).\n",
        "\n",
        "In our lab we are importing already trained neural network model, and mnist dataset.\n",
        "\n",
        "\n",
        "**Numpy** is a mathematical library that supports multi-dimensional arrays and matrices and high-level math functions"
      ]
    },
    {
      "cell_type": "code",
      "execution_count": 6,
      "metadata": {
        "colab": {
          "base_uri": "https://localhost:8080/"
        },
        "id": "gScku0PtelHH",
        "outputId": "49332418-5666-47c0-f0aa-db46467fd61a"
      },
      "outputs": [
        {
          "name": "stderr",
          "output_type": "stream",
          "text": [
            "'unzip' is not recognized as an internal or external command,\n",
            "operable program or batch file.\n"
          ]
        }
      ],
      "source": [
        "# !unzip network.zip"
      ]
    },
    {
      "cell_type": "code",
      "execution_count": 2,
      "metadata": {
        "colab": {
          "base_uri": "https://localhost:8080/"
        },
        "id": "4q0CHRSUe328",
        "outputId": "92eb9e6f-1a58-4bdb-d0e5-62654c10e597"
      },
      "outputs": [
        {
          "name": "stderr",
          "output_type": "stream",
          "text": [
            "'unzip' is not recognized as an internal or external command,\n",
            "operable program or batch file.\n"
          ]
        }
      ],
      "source": [
        "# !unzip data.zip"
      ]
    },
    {
      "cell_type": "code",
      "execution_count": 3,
      "metadata": {
        "id": "CYdGbn4WeG0_"
      },
      "outputs": [
        {
          "ename": "ModuleNotFoundError",
          "evalue": "No module named 'network'",
          "output_type": "error",
          "traceback": [
            "\u001b[1;31m---------------------------------------------------------------------------\u001b[0m",
            "\u001b[1;31mModuleNotFoundError\u001b[0m                       Traceback (most recent call last)",
            "Cell \u001b[1;32mIn[3], line 3\u001b[0m\n\u001b[0;32m      1\u001b[0m \u001b[39m# Imports.\u001b[39;00m\n\u001b[0;32m      2\u001b[0m \u001b[39mimport\u001b[39;00m \u001b[39mrandom\u001b[39;00m\n\u001b[1;32m----> 3\u001b[0m \u001b[39mimport\u001b[39;00m \u001b[39mnetwork\u001b[39;00m\u001b[39m.\u001b[39;00m\u001b[39mnetwork\u001b[39;00m \u001b[39mas\u001b[39;00m \u001b[39mNetwork\u001b[39;00m\n\u001b[0;32m      4\u001b[0m \u001b[39mimport\u001b[39;00m \u001b[39mnetwork\u001b[39;00m\u001b[39m.\u001b[39;00m\u001b[39mmnist_loader\u001b[39;00m \u001b[39mas\u001b[39;00m \u001b[39mmnist_loader\u001b[39;00m\n\u001b[0;32m      5\u001b[0m \u001b[39mimport\u001b[39;00m \u001b[39mpickle\u001b[39;00m\n",
            "\u001b[1;31mModuleNotFoundError\u001b[0m: No module named 'network'"
          ]
        }
      ],
      "source": [
        "# Imports.\n",
        "import random\n",
        "import network.network as Network\n",
        "import network.mnist_loader as mnist_loader\n",
        "import pickle\n",
        "import matplotlib.pyplot as plt\n",
        "import numpy as np\n",
        "\n",
        "# Set the random seed. DO NOT CHANGE THIS!\n",
        "seedVal = 41\n",
        "random.seed(seedVal)\n",
        "np.random.seed(seedVal)\n",
        "\n",
        "%matplotlib inline"
      ]
    },
    {
      "attachments": {},
      "cell_type": "markdown",
      "metadata": {
        "id": "IeOtfULneG1D"
      },
      "source": [
        "<a id='part1'></a>\n",
        "# Part 1: Load the Data and Model\n",
        "\n",
        "MNIST dataset consist of training set: 60,000 samples, test set: 10,000 \n",
        "\n",
        "The images are 28X28 black and white handwritten digits from 0-9.\n",
        "\n",
        "Use a pre-trained network. It has been saved as a pickle file. Load the model, and continue.\n",
        "The network has only one hidden layer of 30 units, 784 input units (MNIST images are $ 28 \\times 28 = 784 $ pixels large), and 10 output units. All the activations are sigmoidal."
      ]
    },
    {
      "cell_type": "code",
      "execution_count": null,
      "metadata": {
        "id": "aIjpss5meG1I"
      },
      "outputs": [],
      "source": [
        "# Load the pre-trained model.\n",
        "with open('network/trained_network.pkl', 'rb') as f:\n",
        "    u = pickle._Unpickler(f)\n",
        "    u.encoding = 'latin1'\n",
        "    net = u.load()\n",
        "\n",
        "# Helpful function to load the MNIST data.\n",
        "training_data, validation_data, test_data = mnist_loader.load_data_wrapper()"
      ]
    },
    {
      "attachments": {},
      "cell_type": "markdown",
      "metadata": {
        "id": "Ua7LLnt4eG1K"
      },
      "source": [
        "The neural network is pretrained, so it should already be set up to predict characters. Run `predict(n)` to evaluate the $ n^{th} $ digit in the test set using the network. You should see that even this relatively simple network works really well (~97% accuracy). The output of the network is a one-hot vector indicating the network's predictions:"
      ]
    },
    {
      "cell_type": "code",
      "execution_count": null,
      "metadata": {
        "colab": {
          "base_uri": "https://localhost:8080/",
          "height": 526
        },
        "id": "LEVZrOzyeG1M",
        "outputId": "7ab3f1f0-43eb-44a0-8c04-4d44129476c3"
      },
      "outputs": [
        {
          "name": "stdout",
          "output_type": "stream",
          "text": [
            "Network output: \n",
            "[[0.]\n",
            " [0.]\n",
            " [0.]\n",
            " [0.]\n",
            " [0.]\n",
            " [0.]\n",
            " [0.]\n",
            " [0.]\n",
            " [1.]\n",
            " [0.]]\n",
            "\n",
            "Network prediction: 8\n",
            "\n",
            "Actual image: \n"
          ]
        },
        {
          "data": {
            "image/png": "[encoded data removed]",
            "text/plain": [
              "<Figure size 432x288 with 1 Axes>"
            ]
          },
          "metadata": {
            "needs_background": "light"
          },
          "output_type": "display_data"
        }
      ],
      "source": [
        "def predict(n):\n",
        "    # Get the data from the test set\n",
        "    x = test_data[n][0]\n",
        "    \n",
        "    # Print the prediction of the network\n",
        "    print('Network output: \\n' + str(np.round(net.feedforward(x), 2)) + '\\n')\n",
        "    print('Network prediction: ' + str(np.argmax(net.feedforward(x))) + '\\n')\n",
        "    print('Actual image: ')\n",
        "    \n",
        "    # Draw the image\n",
        "    plt.imshow(x.reshape((28,28)), cmap='Greys')\n",
        "\n",
        "# Replace the argument with any number between 0 and 9999\n",
        "predict(8384)"
      ]
    },
    {
      "attachments": {},
      "cell_type": "markdown",
      "metadata": {
        "id": "uonVfBFtOQCi"
      },
      "source": [
        "<a id='part2.0'></a>\n",
        "# Part 2: Attack Algorithm"
      ]
    },
    {
      "attachments": {},
      "cell_type": "markdown",
      "metadata": {
        "id": "h4iozixfeG1O"
      },
      "source": [
        "To actually generate adversarial examples we solve a minimization problem. We do this by setting a \"goal\" label called $ \\vec y_{goal} $ (for instance, if we wanted the network to think the adversarial image is an 8, then we would choose $ \\vec y_{goal} $ to be a one-hot vector with the eighth entry being 1). Now we define a cost function:\n",
        "\n",
        "$$ C = \\frac{1}{2} \\|\\vec y_{goal} - \\hat y(\\vec x)\\|^2_2 $$\n",
        "\n",
        "where $ \\| \\cdot \\|^2_2 $ is the squared Euclidean norm and $ \\hat y $ is the network's output. It is a function of $ \\vec x $, the input image to the network, so we write $ \\hat y(\\vec x) $. Our goal is to find an $ \\vec x $ such that $ C $ is minimized. Hopefully this makes sense, because if we find an image $ \\vec x $ that minimizes $ C $ then that means the output of the network when given $ \\vec x $ is close to our desired output, $ \\vec y_{goal} $. So in full mathy language, our optimization problem is:\n",
        "\n",
        "$$ \\arg \\min_{\\vec x} C(\\vec x) $$\n",
        "\n",
        "that is, find the $ \\vec x $ that minimizes the cost $ C $.\n",
        "\n",
        "To actually do this we can do gradient descent on $ C $. Start with an initially random vector $ \\vec x $ and take steps (changing $ \\vec x $) gradually in the direction opposite of the gradient $ \\nabla_x C $. To actually get these derivatives we can perform backpropagation on the network. In contrast to training a network, where we perform gradient descent on the weights and biases, when we create adversarial examples we hold the weights and biases constant (because we don't want to change the network!), and change the inputs to our network."
      ]
    },
    {
      "attachments": {},
      "cell_type": "markdown",
      "metadata": {
        "id": "j4BUa3heeG1Q"
      },
      "source": [
        "Helper functions to evaluate the non-linearity and it's derivative:"
      ]
    },
    {
      "cell_type": "code",
      "execution_count": null,
      "metadata": {
        "id": "zaXHlQJreG1Q"
      },
      "outputs": [],
      "source": [
        "def sigmoid(z):\n",
        "    \"\"\"The sigmoid function.\"\"\"\n",
        "    return 1.0/(1.0+np.exp(-z))\n",
        "                                                                                                                                                                                \n",
        "def sigmoid_prime(z):\n",
        "    \"\"\"Derivative of the sigmoid function.\"\"\"\n",
        "    return sigmoid(z)*(1-sigmoid(z))"
      ]
    },
    {
      "attachments": {},
      "cell_type": "markdown",
      "metadata": {
        "id": "_EDFafcEeG1T"
      },
      "source": [
        "Also, a function to find the gradient derivatives of the cost function, $ \\nabla_x C $ with respect to the input $ \\vec x $, with a goal label of $ \\vec y_{goal} $. (Don't worry too much about the implementation, just know it calculates derivatives)."
      ]
    },
    {
      "cell_type": "code",
      "execution_count": null,
      "metadata": {
        "id": "VM1xwvOmeG1W"
      },
      "outputs": [],
      "source": [
        "def input_derivative(net, x, y):\n",
        "    \"\"\" Calculate derivatives wrt the inputs\"\"\"\n",
        "    nabla_b = [np.zeros(b.shape) for b in net.biases]\n",
        "    nabla_w = [np.zeros(w.shape) for w in net.weights]\n",
        "    \n",
        "    # feedforward\n",
        "    activation = x\n",
        "    activations = [x] # list to store all the activations, layer by layer\n",
        "    zs = [] # list to store all the z vectors, layer by layer\n",
        "    for b, w in zip(net.biases, net.weights):\n",
        "        z = np.dot(w, activation)+b\n",
        "        zs.append(z)\n",
        "        activation = sigmoid(z)\n",
        "        activations.append(activation)\n",
        "        \n",
        "    # backward pass\n",
        "    delta = net.cost_derivative(activations[-1], y) * \\\n",
        "        sigmoid_prime(zs[-1])\n",
        "    nabla_b[-1] = delta\n",
        "    nabla_w[-1] = np.dot(delta, activations[-2].transpose())\n",
        "\n",
        "    for l in range(2, net.num_layers):\n",
        "        z = zs[-l]\n",
        "        sp = sigmoid_prime(z)\n",
        "        delta = np.dot(net.weights[-l+1].transpose(), delta) * sp\n",
        "        nabla_b[-l] = delta\n",
        "        nabla_w[-l] = np.dot(delta, activations[-l-1].transpose())\n",
        "        \n",
        "    # Return derivatives WRT to input\n",
        "    return net.weights[0].T.dot(delta)"
      ]
    },
    {
      "attachments": {},
      "cell_type": "markdown",
      "metadata": {
        "id": "XBKkyFcReG1Z"
      },
      "source": [
        "The actual function that generates adversarial examples and a wrapper function:"
      ]
    },
    {
      "attachments": {},
      "cell_type": "markdown",
      "metadata": {
        "id": "2ojAu80KeG1a"
      },
      "source": [
        "<a id='part2.1'></a>\n",
        "### 2.1 Non-Targeted Attack"
      ]
    },
    {
      "attachments": {},
      "cell_type": "markdown",
      "metadata": {
        "id": "MjgCYTfBQLZ8"
      },
      "source": [
        "Replace the TODO with the following code\n",
        "```python\n",
        "goal[n] = 1 # Goal digit is user choice.\n",
        "\n",
        "d = input_derivative(net, x, goal)\n",
        "```"
      ]
    },
    {
      "cell_type": "code",
      "execution_count": null,
      "metadata": {
        "id": "6F8VtUvxeG1b"
      },
      "outputs": [],
      "source": [
        "def nonTargetedAdversarial(net, n, steps, eta):\n",
        "    \"\"\"\n",
        "    net : network object\n",
        "        neural network instance to use\n",
        "    n : integer\n",
        "        our goal label (just an int, the function transforms it into a one-hot vector)\n",
        "    steps : integer\n",
        "        number of steps for gradient descent\n",
        "    eta : float\n",
        "        step size for gradient descent\n",
        "    \"\"\"\n",
        "    \n",
        "    ####### Enter your code below #######\n",
        "    \n",
        "    # Set the goal output\n",
        "    goal = np.zeros((10, 1))\n",
        "    goal[n] = None #TODO\n",
        "\n",
        "    # Create a random image to initialize gradient descent with\n",
        "    x = np.random.normal(0.5, 0.3, (28*28, 1))\n",
        "\n",
        "    # Gradient descent on the input\n",
        "    for i in range(steps):\n",
        "        # Calculate the derivative\n",
        "        d = input_derivative(net, x, None) #TODO\n",
        "    \n",
        "        # The GD update on x\n",
        "        x -= eta * d  \n",
        "    return x\n",
        "\n",
        "\n",
        "# Wrapper function \n",
        "def generate(n):\n",
        "    \"\"\"\n",
        "    n : integer\n",
        "        goal label (not a one hot vector)\n",
        "    \"\"\"\n",
        "    \n",
        "    ####### Enter your code below #######\n",
        "    \n",
        "    # Find the vector x with the above function that you just wrote.\n",
        "    a = nonTargetedAdversarial(net, n, 1000, 0.2)\n",
        "    \n",
        "    # Pass the generated image (vector) to the neural network. Perform a forward pass, and get the prediction.\n",
        "    x = np.round(net.feedforward(a), 2)\n",
        "    \n",
        "    print('Network Output: \\n' + str(x) + '\\n')\n",
        "    \n",
        "    print('Network Prediction: ' + str(np.argmax(x)) + '\\n')\n",
        "    \n",
        "    print('Adversarial Example: ')\n",
        "    \n",
        "    plt.imshow(a.reshape(28,28), cmap='Greys')"
      ]
    },
    {
      "attachments": {},
      "cell_type": "markdown",
      "metadata": {
        "id": "PuKEdcfieG1d"
      },
      "source": [
        "Now let's generate some adversarial examples! Use the function provided to mess around with the neural network. (For some inputs gradient descent doesn't always converge; 0 and 5 seem to work pretty well though. I suspect convergence is very highly dependent on our choice of random initial $ \\vec x $. We'll see later in the notebook if we force the adversarial example to \"look like\" a handwritten digit, convergence is much more likely. In a sense we will be adding regularization to our generation process)."
      ]
    },
    {
      "cell_type": "code",
      "execution_count": null,
      "metadata": {
        "colab": {
          "base_uri": "https://localhost:8080/",
          "height": 526
        },
        "id": "wcVGR_-AeG1e",
        "outputId": "d0247b43-cd4c-426c-8492-2f7ee3caf053"
      },
      "outputs": [
        {
          "name": "stdout",
          "output_type": "stream",
          "text": [
            "Network Output: \n",
            "[[0.  ]\n",
            " [0.  ]\n",
            " [0.  ]\n",
            " [0.  ]\n",
            " [0.  ]\n",
            " [0.99]\n",
            " [0.  ]\n",
            " [0.  ]\n",
            " [0.  ]\n",
            " [0.  ]]\n",
            "\n",
            "Network Prediction: 5\n",
            "\n",
            "Adversarial Example: \n"
          ]
        },
        {
          "data": {
            "image/png": "[encoded data removed]",
            "text/plain": [
              "<Figure size 432x288 with 1 Axes>"
            ]
          },
          "metadata": {
            "needs_background": "light"
          },
          "output_type": "display_data"
        }
      ],
      "source": [
        "generate(5)"
      ]
    },
    {
      "attachments": {},
      "cell_type": "markdown",
      "metadata": {
        "id": "MObRlrareG1g"
      },
      "source": [
        "<a id='part2.2'></a>\n",
        "### 2.2 Targeted Attack"
      ]
    },
    {
      "attachments": {},
      "cell_type": "markdown",
      "metadata": {
        "id": "TjP5c0p3eG1h"
      },
      "source": [
        "Sweet! We've just managed to create an image that looks utterly meaningless to a human, but the neural network thinks is a '5' with very high certainty. We can actually take this a bit further. Let's generate an image that looks like one number, but the neural network is certain is another. To do this we will modify our cost function a bit. Instead of just optimizing the input image, $ \\vec x $, to get a desired output label, we'll also optimize the input to look like a certain image, $ \\vec x_{target} $, at the same time. Our new cost function will be\n",
        "\n",
        "$$ C = \\|\\vec y_{goal} - y_{hat}(\\vec x)\\|^2_2 + \\lambda \\|\\vec x - \\vec x_{target}\\|^2_2 $$\n",
        "\n",
        "The added term tells us the distance from our $ \\vec x $ and some $ \\vec x_{target} $ (which is the image we want our adversarial example to look like). Because we want to minimize $ C $, we also want to minimize the distance between our adversarial example and this image. The $ \\lambda $ is hyperparameter that we can tune; it determines which is more important: optimizing for the desired output or optimizing for an image that looks like $ \\vec x_{target} $.\n",
        "\n",
        "If you are familiar with ridge regularization, the above cost function might look suspiciously like the ridge regression cost function. In fact, we can view this generation method as giving our model a prior, centered on our target image.\n",
        "\n",
        "Here is a function that implements optimizing the modified cost function, called `sneaky_adversarial` (because it is very sneaky). Note that the only difference between this function and `adversarial` is an additional term on the gradient descent update for the regularization term:"
      ]
    },
    {
      "attachments": {},
      "cell_type": "markdown",
      "metadata": {
        "id": "KpaRgPP9Qk83"
      },
      "source": [
        "Replace the TODO with the following code\n",
        "```python\n",
        "x -= eta * (d + (lam * (x - x_target)))\n",
        "```"
      ]
    },
    {
      "cell_type": "code",
      "execution_count": null,
      "metadata": {
        "id": "h1WDfrYveG1i"
      },
      "outputs": [],
      "source": [
        "def targetedAdversarial(net, n, x_target, steps, eta, lam=.05):\n",
        "    \"\"\"\n",
        "    net : network object\n",
        "        neural network instance to use\n",
        "    n : integer\n",
        "        our goal label (just an int, the function transforms it into a one-hot vector)\n",
        "    x_target : numpy vector\n",
        "        our goal image for the adversarial example\n",
        "    steps : integer\n",
        "        number of steps for gradient descent\n",
        "    eta : float\n",
        "        step size for gradient descent\n",
        "    lam : float\n",
        "        lambda, our regularization parameter. Default is .05\n",
        "    \"\"\"\n",
        "    \n",
        "    # Set the goal output\n",
        "    goal = np.zeros((10, 1))\n",
        "    goal[n] = 1\n",
        "    # Create a random image to initialize gradient descent with\n",
        "    x = np.random.normal(0.5, 0.3, (28*28, 1))\n",
        "    \n",
        "    # Gradient descent on the input\n",
        "    for i in range(steps):\n",
        "        \n",
        "        # Calculate the derivative\n",
        "        d = input_derivative(net, x, goal)\n",
        "        # The GD update on x, with an added penalty to the cost function\n",
        "        x -= eta * (d + (None * (x - x_target))) #TODO\n",
        "\n",
        "    return x\n",
        "\n",
        "# Wrapper function\n",
        "def generate_advSample(n, m):\n",
        "    \"\"\"\n",
        "    n: int 0-9, the target number to match\n",
        "    m: index of example image to use (from the test set)\n",
        "    \"\"\"\n",
        "    \n",
        "    # Find random instance of m in test set\n",
        "    idx = np.random.randint(0,8000)\n",
        "    while test_data[idx][1] != m:\n",
        "        idx += 1\n",
        "    \n",
        "    # Hardcode the parameters for the wrapper function\n",
        "    a = targetedAdversarial(net, n, test_data[idx][0], 100, 1)\n",
        "    x = np.round(net.feedforward(a), 2)\n",
        "    \n",
        "    print('\\nWhat we want our adversarial example to look like: ')\n",
        "    plt.imshow(test_data[idx][0].reshape((28,28)), cmap='Greys')\n",
        "    plt.show()\n",
        "    \n",
        "    print('\\n')\n",
        "    \n",
        "    print('Adversarial Example: ')\n",
        "    \n",
        "    plt.imshow(a.reshape(28,28), cmap='Greys')\n",
        "    plt.show()\n",
        "    \n",
        "    print('Network Prediction: ' + str(np.argmax(x)) + '\\n')\n",
        "    \n",
        "    print('Network Output: \\n' + str(x) + '\\n')\n",
        "    \n",
        "    return a"
      ]
    },
    {
      "attachments": {},
      "cell_type": "markdown",
      "metadata": {
        "id": "aJkIhiegeG1j"
      },
      "source": [
        "Play around with this function to make \"sneaky\" adversarial examples! (Again, some numbers converge better than others... try 0, 2, 3, 5, 6, or 8 as a target label. 1, 4, 7, and 9 still don't work as well... no idea why... We get more numbers that converge because we've added regularization term to our cost function. Perhaps changing $ \\lambda $ will get more to converge?)"
      ]
    },
    {
      "cell_type": "code",
      "execution_count": null,
      "metadata": {
        "colab": {
          "base_uri": "https://localhost:8080/",
          "height": 843
        },
        "id": "Qzce5joWeG1k",
        "outputId": "d317efc5-680e-402f-fd61-79ba5cf8e3a4"
      },
      "outputs": [
        {
          "name": "stdout",
          "output_type": "stream",
          "text": [
            "\n",
            "What we want our adversarial example to look like: \n"
          ]
        },
        {
          "data": {
            "image/png": "[encoded data removed]",
            "text/plain": [
              "<Figure size 432x288 with 1 Axes>"
            ]
          },
          "metadata": {
            "needs_background": "light"
          },
          "output_type": "display_data"
        },
        {
          "name": "stdout",
          "output_type": "stream",
          "text": [
            "\n",
            "\n",
            "Adversarial Example: \n"
          ]
        },
        {
          "data": {
            "image/png": "[encoded data removed]",
            "text/plain": [
              "<Figure size 432x288 with 1 Axes>"
            ]
          },
          "metadata": {
            "needs_background": "light"
          },
          "output_type": "display_data"
        },
        {
          "name": "stdout",
          "output_type": "stream",
          "text": [
            "Network Prediction: 8\n",
            "\n",
            "Network Output: \n",
            "[[0.  ]\n",
            " [0.  ]\n",
            " [0.  ]\n",
            " [0.  ]\n",
            " [0.  ]\n",
            " [0.  ]\n",
            " [0.01]\n",
            " [0.  ]\n",
            " [1.  ]\n",
            " [0.  ]]\n",
            "\n"
          ]
        }
      ],
      "source": [
        "# generate_advSample(target label, target digit)\n",
        "adv_ex = generate_advSample(8, 2)"
      ]
    },
    {
      "attachments": {},
      "cell_type": "markdown",
      "metadata": {
        "id": "X82Fatt9eG1l"
      },
      "source": [
        "<a id='part3.0'></a>\n",
        "# Part 3: Protection against adversarial attacks"
      ]
    },
    {
      "attachments": {},
      "cell_type": "markdown",
      "metadata": {
        "id": "_Vbb8elwPm0n"
      },
      "source": [
        "<a id='part3.1'></a>\n",
        "### 3.1 Binary Thresholding"
      ]
    },
    {
      "attachments": {},
      "cell_type": "markdown",
      "metadata": {
        "id": "YzrxsLOGeG1m"
      },
      "source": [
        "Awesome! We’ve just created images that trick neural networks. The next question we could ask is whether or not we could protect against these kinds of attacks. If you look closely at the original images and the adversarial examples you’ll see that the adversarial examples have some sort of grey tinged background."
      ]
    },
    {
      "attachments": {},
      "cell_type": "markdown",
      "metadata": {
        "id": "dzV4WamJeG1n"
      },
      "source": [
        "So how could we protect against these adversarial attacks? One very simple way would be to use binary thresholding. Set a pixel as completely black or completely white depending on a threshold. This should remove the \"noise\" that's always present in the adversarial images. Let's see if it works:"
      ]
    },
    {
      "cell_type": "code",
      "execution_count": null,
      "metadata": {
        "id": "U3By6pPyeG1n"
      },
      "outputs": [],
      "source": [
        "def simple_defense(n, m):\n",
        "    \"\"\"\n",
        "    n: int 0-9, the target number to match\n",
        "    m: index of example image to use (from the test set)\n",
        "    \"\"\"\n",
        "    \n",
        "    # Generate an adversarial sample.\n",
        "    x = generate_advSample(n, m)\n",
        "    \n",
        "    # Perform binary thresholding on the generated sample. You can choose the threshold as 0.5.\n",
        "    t = 0.5\n",
        "    binary_mask = x < t\n",
        "\n",
        "    print(\"With binary thresholding: \")\n",
        "    binary_mask = x > t\n",
        "    selection = np.zeros_like(x)\n",
        "    selection[binary_mask] = x[binary_mask]\n",
        "    # Plot a grayscale image of the binarized generated sample.\n",
        "    plt.imshow(selection.reshape(28,28), cmap='Greys')\n",
        "    plt.show()\n",
        "\n",
        "    # Print the network's predictions.\n",
        "    new_prediction = np.round(net.feedforward(binary_mask), 2)\n",
        "    print(\"Prediction with binary thresholding: \" + str(np.argmax(new_prediction)) + '\\n')\n",
        "    \n",
        "    # The output of the network.\n",
        "    print(\"Network output: \")\n",
        "    print( new_prediction )"
      ]
    },
    {
      "cell_type": "code",
      "execution_count": null,
      "metadata": {
        "colab": {
          "base_uri": "https://localhost:8080/",
          "height": 1000
        },
        "id": "AOngXx_NeG1o",
        "outputId": "5bf26107-7fba-47c9-8957-6a24f697dc0a"
      },
      "outputs": [
        {
          "name": "stdout",
          "output_type": "stream",
          "text": [
            "\n",
            "What we want our adversarial example to look like: \n"
          ]
        },
        {
          "data": {
            "image/png": "[encoded data removed]",
            "text/plain": [
              "<Figure size 432x288 with 1 Axes>"
            ]
          },
          "metadata": {
            "needs_background": "light"
          },
          "output_type": "display_data"
        },
        {
          "name": "stdout",
          "output_type": "stream",
          "text": [
            "\n",
            "\n",
            "Adversarial Example: \n"
          ]
        },
        {
          "data": {
            "image/png": "[encoded data removed]",
            "text/plain": [
              "<Figure size 432x288 with 1 Axes>"
            ]
          },
          "metadata": {
            "needs_background": "light"
          },
          "output_type": "display_data"
        },
        {
          "name": "stdout",
          "output_type": "stream",
          "text": [
            "Network Prediction: 2\n",
            "\n",
            "Network Output: \n",
            "[[0.  ]\n",
            " [0.  ]\n",
            " [0.99]\n",
            " [0.01]\n",
            " [0.  ]\n",
            " [0.  ]\n",
            " [0.  ]\n",
            " [0.  ]\n",
            " [0.  ]\n",
            " [0.  ]]\n",
            "\n",
            "With binary thresholding: \n"
          ]
        },
        {
          "data": {
            "image/png": "[encoded data removed]",
            "text/plain": [
              "<Figure size 432x288 with 1 Axes>"
            ]
          },
          "metadata": {
            "needs_background": "light"
          },
          "output_type": "display_data"
        },
        {
          "name": "stdout",
          "output_type": "stream",
          "text": [
            "Prediction with binary thresholding: 3\n",
            "\n",
            "Network output: \n",
            "[[0.]\n",
            " [0.]\n",
            " [0.]\n",
            " [1.]\n",
            " [0.]\n",
            " [0.]\n",
            " [0.]\n",
            " [0.]\n",
            " [0.]\n",
            " [0.]]\n"
          ]
        }
      ],
      "source": [
        "# binary_thresholding(target digit, actual digit)\n",
        "simple_defense(2, 3)"
      ]
    },
    {
      "attachments": {},
      "cell_type": "markdown",
      "metadata": {
        "id": "Gx-HifCteG1p"
      },
      "source": [
        "Looks like it works pretty well! However, note that most adversarial attacks, especially on convolutional neural networks trained on massive full color image sets such as imagenet, can't be defended against by a simple binary threshold."
      ]
    },
    {
      "attachments": {},
      "cell_type": "markdown",
      "metadata": {
        "id": "CF0wfayXeG1q"
      },
      "source": [
        "<a id='part3.2'></a>\n",
        "### 3.2 Adversarial Training"
      ]
    },
    {
      "attachments": {},
      "cell_type": "markdown",
      "metadata": {
        "id": "3IG4CfGCeG1q"
      },
      "source": [
        "Looks like it works pretty well! However, note that most adversarial attacks, especially on convolutional neural networks trained on massive full color image sets such as imagenet, can't be defended against by a simple binary threshold.\n",
        "\n",
        "We could try one more thing that might be a bit more universal to protect our neural network against adversarial attacks. If we had access to the adversarial attack method (which we do in this case, because we're the ones implementing the attack) we could create a ton of adversarial examples, mix that up with our training dataset with the correct labels, and then retrain a network on this augmented dataset. The retrained network should learn to ignore the adversarial attacks. Here we implement a function to do just that."
      ]
    },
    {
      "cell_type": "code",
      "execution_count": null,
      "metadata": {
        "id": "AI77_wLleG1q"
      },
      "outputs": [],
      "source": [
        "def augment_data(n, data, steps):\n",
        "    \"\"\"\n",
        "    n : integer\n",
        "        number of adversarial examples to generate\n",
        "    data : list of tuples\n",
        "        data set to generate adversarial examples using\n",
        "    \"\"\"\n",
        "    # Our augmented training set:\n",
        "    augmented = []\n",
        "    \n",
        "    for i in range(n):\n",
        "        # Progress \"bar\"\n",
        "        if i % 500 == 0:\n",
        "            print(\"Generated digits: \" + str(i))\n",
        "            \n",
        "        # Randomly choose a digit that the example will look like\n",
        "        rnd_target_digit = np.random.randint(0, 10)\n",
        "        # Find random instance of rnd_actual_digit in the training set\n",
        "        rnd_actual_idx = np.random.randint(0, len(data)-100)\n",
        "        \n",
        "        # TODO : Find a random instance of rnd_actual_digit in the training set. \n",
        "        while np.argmax(data[rnd_actual_idx][1]) != rnd_target_digit:\n",
        "            rnd_actual_idx += 1\n",
        "        x_target = data[rnd_actual_idx][0]\n",
        "        y_actual = data[rnd_actual_idx][1]\n",
        "        true_digit_label = y_actual.squeeze().tolist().index(1)\n",
        "        \n",
        "        # Choose a value for the adversarial attack\n",
        "        while True:\n",
        "            rnd_fake_digit = np.random.randint(10)\n",
        "            if rnd_fake_digit != true_digit_label: break\n",
        "    \n",
        "        # Generate adversarial example\n",
        "        x_adversarial = targetedAdversarial(net, rnd_fake_digit, x_target, steps, 1)\n",
        "        \n",
        "        # Add new data       \n",
        "        augmented.append((x_adversarial, y_actual))\n",
        "        \n",
        "    return augmented"
      ]
    },
    {
      "cell_type": "code",
      "execution_count": null,
      "metadata": {
        "colab": {
          "base_uri": "https://localhost:8080/"
        },
        "id": "QV-r5XdbeG1r",
        "outputId": "a5df44ca-6210-43fe-fe19-65e10c23eb64"
      },
      "outputs": [
        {
          "name": "stdout",
          "output_type": "stream",
          "text": [
            "Generated digits: 0\n",
            "Generated digits: 500\n",
            "Generated digits: 1000\n",
            "Generated digits: 1500\n",
            "Generated digits: 2000\n",
            "Generated digits: 2500\n",
            "Generated digits: 3000\n",
            "Generated digits: 3500\n",
            "Generated digits: 4000\n",
            "Generated digits: 4500\n",
            "Generated digits: 5000\n",
            "Generated digits: 5500\n",
            "Generated digits: 6000\n",
            "Generated digits: 6500\n",
            "Generated digits: 7000\n",
            "Generated digits: 7500\n",
            "Generated digits: 8000\n",
            "Generated digits: 8500\n",
            "Generated digits: 9000\n",
            "Generated digits: 9500\n"
          ]
        }
      ],
      "source": [
        "# Try 10000 examples first if you don't want to wait for a long time!\n",
        "augmented = augment_data(10000, training_data, 100)"
      ]
    },
    {
      "attachments": {},
      "cell_type": "markdown",
      "metadata": {
        "id": "XS9GNIFmeG1s"
      },
      "source": [
        "Now let's check to make sure our augmented dataset actually makes sense. Here we have a function that checks the $ i^{th} $ example in our augmented set."
      ]
    },
    {
      "cell_type": "code",
      "execution_count": null,
      "metadata": {
        "colab": {
          "base_uri": "https://localhost:8080/",
          "height": 578
        },
        "id": "C6IDCfWjeG1t",
        "outputId": "2607e109-5733-406d-8b83-3a4b6a52c44f"
      },
      "outputs": [
        {
          "name": "stdout",
          "output_type": "stream",
          "text": [
            "Image: \n",
            "\n"
          ]
        },
        {
          "data": {
            "image/png": "[encoded data removed]",
            "text/plain": [
              "<Figure size 432x288 with 1 Axes>"
            ]
          },
          "metadata": {
            "needs_background": "light"
          },
          "output_type": "display_data"
        },
        {
          "name": "stdout",
          "output_type": "stream",
          "text": [
            "Original network prediction: \n",
            "\n",
            "[[0.  ]\n",
            " [0.  ]\n",
            " [0.95]\n",
            " [0.  ]\n",
            " [0.  ]\n",
            " [0.  ]\n",
            " [0.  ]\n",
            " [0.03]\n",
            " [0.  ]\n",
            " [0.  ]]\n",
            "\n",
            "Label: \n",
            "\n",
            "7\n"
          ]
        }
      ],
      "source": [
        "def check_augmented(i, augmented):\n",
        "    # Show image\n",
        "    print('Image: \\n')\n",
        "    plt.imshow(augmented[i][0].reshape(28,28), cmap='Greys')\n",
        "    plt.show()\n",
        "    \n",
        "    # Show original network prediction\n",
        "    print('Original network prediction: \\n')\n",
        "    print(np.round(net.feedforward(augmented[i][0]), 2))\n",
        "    \n",
        "    # Show label\n",
        "    print('\\nLabel: \\n')\n",
        "    print(np.argmax(augmented[i][1]))\n",
        "    \n",
        "# check i^th adversarial image\n",
        "check_augmented(239, augmented)"
      ]
    },
    {
      "attachments": {},
      "cell_type": "markdown",
      "metadata": {
        "id": "7-gVYkJ-eG1u"
      },
      "source": [
        "We can now create a new neural network and train it on our augmented dataset and the original training set, using the original test set to validate."
      ]
    },
    {
      "cell_type": "code",
      "execution_count": null,
      "metadata": {
        "colab": {
          "base_uri": "https://localhost:8080/"
        },
        "id": "Xh2XvrMQeG1u",
        "outputId": "1ab6e419-d3d7-4aa4-8bcf-f5b8d6be3623"
      },
      "outputs": [
        {
          "name": "stderr",
          "output_type": "stream",
          "text": [
            "<__array_function__ internals>:5: VisibleDeprecationWarning: Creating an ndarray from ragged nested sequences (which is a list-or-tuple of lists-or-tuples-or ndarrays with different lengths or shapes) is deprecated. If you meant to do this, you must specify 'dtype=object' when creating the ndarray.\n"
          ]
        },
        {
          "name": "stdout",
          "output_type": "stream",
          "text": [
            "Epoch 0 complete\n",
            "Epoch 1 complete\n",
            "Epoch 2 complete\n",
            "Epoch 3 complete\n",
            "Epoch 4 complete\n",
            "Epoch 5 complete\n",
            "Epoch 6 complete\n",
            "Epoch 7 complete\n",
            "Epoch 8 complete\n",
            "Epoch 9 complete\n"
          ]
        }
      ],
      "source": [
        "# Create a new network. Use the function provided in the Network.network to create one. For this you'll have to \n",
        "# read the description of the function there. \n",
        "net2 = Network.Network([28*28, 40, 40, 10])\n",
        "\n",
        "# Train on the augmented + original training set\n",
        "combined_train_data = np.concatenate([training_data, augmented])\n",
        "random.shuffle(combined_train_data)\n",
        "net2.SGD(training_data=combined_train_data, epochs=10, mini_batch_size=64, eta=1)"
      ]
    },
    {
      "attachments": {},
      "cell_type": "markdown",
      "metadata": {
        "id": "e0vxSJo1eG1w"
      },
      "source": [
        "With a network trained on 50000 adversarial examples in addition to 50000 original training set examples we get about 95% accuracy (it takes quite a long time as well). We can make a test set of adversarial examples by using the following function call:"
      ]
    },
    {
      "cell_type": "code",
      "execution_count": null,
      "metadata": {
        "colab": {
          "base_uri": "https://localhost:8080/"
        },
        "id": "HFvanysGeG1w",
        "outputId": "953e2d05-77f9-46c3-d370-9912a438f8b9"
      },
      "outputs": [
        {
          "name": "stdout",
          "output_type": "stream",
          "text": [
            "Generated digits: 0\n",
            "Generated digits: 500\n"
          ]
        }
      ],
      "source": [
        "# For some reason the training data has the format: list of tuples\n",
        "# tuple[0] is np array of image\n",
        "# tuple[1] is one hot np array of label\n",
        "# test data is also list of tuples\n",
        "# tuple[0] is np array of image\n",
        "# tuple[1] is integer of label\n",
        "# Just fixing this:\n",
        "normal_test_data = []\n",
        "\n",
        "for i in range(len(test_data)):\n",
        "    ground_truth = test_data[i][1]\n",
        "    one_hot = np.zeros(10)\n",
        "    one_hot[ground_truth] = 1\n",
        "    one_hot = np.expand_dims(one_hot, axis=1)\n",
        "    normal_test_data.append((test_data[i][0], one_hot))\n",
        "    \n",
        "\n",
        "# Using normal_test_data because of weird way data is packaged\n",
        "adversarial_test_set = augment_data(1000, normal_test_data, 100)"
      ]
    },
    {
      "attachments": {},
      "cell_type": "markdown",
      "metadata": {
        "id": "w3uYF7jUeG1x"
      },
      "source": [
        "Let's checkout the accuracy of our newly trained network on adversarial examples from the new adversarial test set:"
      ]
    },
    {
      "cell_type": "code",
      "execution_count": null,
      "metadata": {
        "colab": {
          "base_uri": "https://localhost:8080/"
        },
        "id": "M5exBwPOeG1x",
        "outputId": "756db629-b74b-4c31-f8cd-2bfe9aac16bd"
      },
      "outputs": [
        {
          "name": "stdout",
          "output_type": "stream",
          "text": [
            "Accuracy of the new augmented model on the adversarial test set: 0.721\n",
            "Accuracy of the new augmented model on the original test set: 0.7489\n",
            "Accuracy of the original network on the adversarial test set: 0.451\n",
            "Accuracy of the original network on the original test set: 0.8691\n"
          ]
        }
      ],
      "source": [
        "def accuracy(net, test_data):\n",
        "    \"\"\"\n",
        "    net : network object\n",
        "    test_data: list\n",
        "        list of 2-tuples of two arrays, one image and one label (one-hot)\n",
        "    \"\"\"\n",
        "    tot = float(len(test_data))\n",
        "    correct = 0\n",
        "    for i in range(len(test_data)):\n",
        "        prediction = np.argmax(np.round(net.feedforward(test_data[i][0]), 2))\n",
        "        true_label = np.argmax(test_data[i][1])\n",
        "        if prediction==true_label:\n",
        "            correct += 1\n",
        "    \n",
        "    return correct / tot\n",
        "aug_adv_test = accuracy(net2, adversarial_test_set)\n",
        "aug_norm_test = accuracy(net2, normal_test_data)\n",
        "org_adv_test = accuracy(net, adversarial_test_set)\n",
        "org_norm_test = accuracy(net, normal_test_data)\n",
        "\n",
        "\n",
        "\n",
        "print('Accuracy of the new augmented model on the adversarial test set: ' + str(aug_adv_test))\n",
        "print('Accuracy of the new augmented model on the original test set: ' + str(aug_norm_test))\n",
        "\n",
        "print('Accuracy of the original network on the adversarial test set: ' + str(org_adv_test))\n",
        "print('Accuracy of the original network on the original test set: ' + str(org_norm_test))"
      ]
    },
    {
      "cell_type": "code",
      "execution_count": null,
      "metadata": {
        "colab": {
          "base_uri": "https://localhost:8080/",
          "height": 281
        },
        "id": "fDxe8piz6vlh",
        "outputId": "8378703b-bbdf-4854-b57e-6b46734220f2"
      },
      "outputs": [
        {
          "data": {
            "image/png": "[encoded data removed]",
            "text/plain": [
              "<Figure size 432x288 with 1 Axes>"
            ]
          },
          "metadata": {
            "needs_background": "light"
          },
          "output_type": "display_data"
        }
      ],
      "source": [
        "X = ['Original/Normal','Aug/Normal', 'Original/Adv', 'Aug/Adv']\n",
        "Y = [org_norm_test, aug_norm_test, org_adv_test, aug_adv_test]\n",
        "plt.bar(X, Y, color=['g', 'g', 'r', 'r'])\n",
        "plt.title('Original vs Augmented Model Accuracies on Normal and Adversarial Test Sets')\n",
        "plt.show()\n",
        "plt.close()"
      ]
    },
    {
      "attachments": {},
      "cell_type": "markdown",
      "metadata": {
        "id": "buNiWZy5eG1z"
      },
      "source": [
        "Finally, we'll be implementing a function that compares the original network to the new network on adversarial examples."
      ]
    },
    {
      "cell_type": "code",
      "execution_count": null,
      "metadata": {
        "id": "DuGBoeeseG1z"
      },
      "outputs": [],
      "source": [
        "# You'll be implementing a function that compares the original network to the new network. The specifications of \n",
        "# what this function has to achieve has been provided in the pdf.\n",
        "\n",
        "# TODO : Implement a function.\n",
        "def compare(original_net, new_net, adv_example):\n",
        "    # Show image\n",
        "    print('Image: \\n')\n",
        "    plt.imshow(adv_example[0].reshape(28,28), cmap='Greys')\n",
        "    plt.show()\n",
        "    \n",
        "    # Show original network prediction\n",
        "    print('Original network prediction: \\n')\n",
        "    print(np.round(original_net.feedforward(adv_example[0]), 2))\n",
        "\n",
        "    # Show new network prediction\n",
        "    print('New network prediction: \\n')\n",
        "    print(np.round(new_net.feedforward(adv_example[0]), 2))\n",
        "    \n",
        "    # Show label\n",
        "    print('\\nLabel: \\n')\n",
        "    print(np.argmax(adv_example[1]))"
      ]
    },
    {
      "cell_type": "code",
      "execution_count": null,
      "metadata": {
        "colab": {
          "base_uri": "https://localhost:8080/",
          "height": 786
        },
        "id": "Uf1_jYAgeG10",
        "outputId": "6e2b719a-7cac-4bed-e93c-d03f8b8b7271"
      },
      "outputs": [
        {
          "name": "stdout",
          "output_type": "stream",
          "text": [
            "Image: \n",
            "\n"
          ]
        },
        {
          "data": {
            "image/png": "[encoded data removed]",
            "text/plain": [
              "<Figure size 432x288 with 1 Axes>"
            ]
          },
          "metadata": {
            "needs_background": "light"
          },
          "output_type": "display_data"
        },
        {
          "name": "stdout",
          "output_type": "stream",
          "text": [
            "Original network prediction: \n",
            "\n",
            "[[0.  ]\n",
            " [0.  ]\n",
            " [0.  ]\n",
            " [0.03]\n",
            " [0.  ]\n",
            " [0.  ]\n",
            " [0.  ]\n",
            " [0.  ]\n",
            " [0.  ]\n",
            " [0.  ]]\n",
            "New network prediction: \n",
            "\n",
            "[[0.  ]\n",
            " [0.  ]\n",
            " [0.  ]\n",
            " [0.99]\n",
            " [0.01]\n",
            " [0.09]\n",
            " [0.  ]\n",
            " [0.  ]\n",
            " [0.08]\n",
            " [0.  ]]\n",
            "\n",
            "Label: \n",
            "\n",
            "3\n"
          ]
        }
      ],
      "source": [
        "compare(net, net2, augmented[150])"
      ]
    },
    {
      "cell_type": "code",
      "execution_count": null,
      "metadata": {
        "colab": {
          "base_uri": "https://localhost:8080/",
          "height": 786
        },
        "id": "_1pr_hs1eG11",
        "outputId": "6392ba21-9541-412e-ba69-3e8f010e3543"
      },
      "outputs": [
        {
          "name": "stdout",
          "output_type": "stream",
          "text": [
            "Image: \n",
            "\n"
          ]
        },
        {
          "data": {
            "image/png": "[encoded data removed]",
            "text/plain": [
              "<Figure size 432x288 with 1 Axes>"
            ]
          },
          "metadata": {
            "needs_background": "light"
          },
          "output_type": "display_data"
        },
        {
          "name": "stdout",
          "output_type": "stream",
          "text": [
            "Original network prediction: \n",
            "\n",
            "[[0.  ]\n",
            " [0.02]\n",
            " [0.  ]\n",
            " [0.  ]\n",
            " [0.  ]\n",
            " [0.  ]\n",
            " [0.96]\n",
            " [0.  ]\n",
            " [0.  ]\n",
            " [0.  ]]\n",
            "New network prediction: \n",
            "\n",
            "[[0.  ]\n",
            " [0.92]\n",
            " [0.02]\n",
            " [0.  ]\n",
            " [0.  ]\n",
            " [0.  ]\n",
            " [0.  ]\n",
            " [0.  ]\n",
            " [0.07]\n",
            " [0.  ]]\n",
            "\n",
            "Label: \n",
            "\n",
            "1\n"
          ]
        }
      ],
      "source": [
        "compare(net, net2, augmented[850])"
      ]
    }
  ],
  "metadata": {
    "accelerator": "GPU",
    "colab": {
      "gpuClass": "premium",
      "gpuType": "T4",
      "machine_shape": "hm",
      "provenance": []
    },
    "gpuClass": "premium",
    "kernelspec": {
      "display_name": "Python 3",
      "name": "python3"
    },
    "language_info": {
      "codemirror_mode": {
        "name": "ipython",
        "version": 3
      },
      "file_extension": ".py",
      "mimetype": "text/x-python",
      "name": "python",
      "nbconvert_exporter": "python",
      "pygments_lexer": "ipython3",
      "version": "3.10.2"
    }
  },
  "nbformat": 4,
  "nbformat_minor": 0
}
